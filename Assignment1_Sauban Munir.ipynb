{
 "cells": [
  {
   "cell_type": "code",
   "execution_count": 2,
   "metadata": {},
   "outputs": [
    {
     "name": "stdout",
     "output_type": "stream",
     "text": [
      "abbasi\n"
     ]
    }
   ],
   "source": [
    "var_a = \"abbasi\"\n",
    "print(var_a)"
   ]
  },
  {
   "cell_type": "code",
   "execution_count": 1,
   "metadata": {},
   "outputs": [
    {
     "ename": "SyntaxError",
     "evalue": "invalid syntax (<ipython-input-1-1a52882a8ffe>, line 1)",
     "output_type": "error",
     "traceback": [
      "\u001b[1;36m  File \u001b[1;32m\"<ipython-input-1-1a52882a8ffe>\"\u001b[1;36m, line \u001b[1;32m1\u001b[0m\n\u001b[1;33m    def(string)\u001b[0m\n\u001b[1;37m       ^\u001b[0m\n\u001b[1;31mSyntaxError\u001b[0m\u001b[1;31m:\u001b[0m invalid syntax\n"
     ]
    }
   ],
   "source": [
    "def(string)"
   ]
  },
  {
   "cell_type": "code",
   "execution_count": 60,
   "metadata": {},
   "outputs": [
    {
     "name": "stdout",
     "output_type": "stream",
     "text": [
      "åssiågnment.\n",
      "Åssiågnment.\n",
      "åssiågnment.\n",
      "    åssiågnment.    \n",
      "1\n",
      "True\n",
      "H   e   l   l   o\n",
      "2\n",
      "2\n",
      "False\n",
      "True\n",
      "False\n",
      "True\n",
      "True\n",
      "True\n",
      "True\n",
      "True\n",
      "False\n",
      "True\n",
      "False\n",
      "John+Peter+Vicky\n",
      "cherry               is my favorite fruit.\n",
      "CASE\n",
      "piaic\n"
     ]
    }
   ],
   "source": [
    "job = \"åssiågnment.\"\n",
    "job1 = \"åssiågnment1.\"\n",
    "txt1= \"H\\te\\tl\\tl\\to1\"\n",
    "txt2 = \"Company12\"\n",
    "txt3 = \"alpha\"\n",
    "txt4 = \"2.0\"\n",
    "txt5 = \"222\"\n",
    "txt6 = \"s\"\n",
    "txt7 = \"a\"\n",
    "txt8 = \"1\"\n",
    "txt9 = \"asd\"\n",
    "txta = \"a f\"\n",
    "txtb = \"Aas\"\n",
    "txtc = \"Aas\"\n",
    "d = \"cherry\"\n",
    "beta = \"case\"\n",
    "gamma = \"PIAIC\"\n",
    "print(job)\n",
    "#method name 'capitalize'\n",
    "job = job.capitalize()\n",
    "print(job)\n",
    "#method name 'casefold'\n",
    "job = job.casefold()\n",
    "print(job)\n",
    "#method name 'center'\n",
    "job = job.center(20)\n",
    "print(job)\n",
    "#method name 'count'\n",
    "job = job.count(job)\n",
    "print(job)\n",
    "'''\n",
    "#method name 'encode' not working\n",
    "#a = job.encode()\n",
    "#print(a)\n",
    "'''\n",
    "#method name 'endswith'\n",
    "job1 = job1.endswith(\".\")\n",
    "print(job1)\n",
    "#method name 'expandtabs'\n",
    "txt = \"H\\te\\tl\\tl\\to\"\n",
    "\n",
    "x =  txt.expandtabs(4)\n",
    "\n",
    "print(x)\n",
    "#method name 'find'\n",
    "txt = txt.find(\"e\")\n",
    "print(txt)\n",
    "#method name 'index'\n",
    "txt1 = txt1.index(\"e\")\n",
    "print(txt1)\n",
    "#method name 'isalpha'\n",
    "x = txt2.isalpha()\n",
    "\n",
    "print(x)\n",
    "#method name 'isalnum'\n",
    "x = txt3.isalnum()\n",
    "\n",
    "print(x)\n",
    "#method name 'isdecimal'\n",
    "x = txt4.isdecimal()\n",
    "\n",
    "print(x)\n",
    "#method name 'isdigit'\n",
    "x = txt5.isdigit()\n",
    "\n",
    "print(x)\n",
    "#method name 'isidentifier'\n",
    "x = txt6.isidentifier()\n",
    "\n",
    "print(x)\n",
    "#method name 'islower'\n",
    "x = txt7.islower()\n",
    "\n",
    "print(x)\n",
    "#method name 'isnumeric'\n",
    "x = txt8.isnumeric()\n",
    "\n",
    "print(x)\n",
    "#method name 'isprintable'\n",
    "x = txt9.isprintable()\n",
    "\n",
    "print(x)\n",
    "#method name 'isspace'\n",
    "x = txta.isspace()\n",
    "\n",
    "print(x)\n",
    "#method name 'istitle'\n",
    "x = txtb.istitle()\n",
    "\n",
    "print(x)\n",
    "#method name 'isupper'\n",
    "x = txtc.isupper()\n",
    "\n",
    "print(x)\n",
    "#method name 'join'\n",
    "\n",
    "mylist = (\"John\", \"Peter\", \"Vicky\")\n",
    "\n",
    "x = \"+\".join(mylist)\n",
    "\n",
    "print(x)\n",
    "#method name 'ljust'\n",
    "\n",
    "d = d.ljust(20)\n",
    "\n",
    "print(d, \"is my favorite fruit.\")\n",
    "#method name 'upper'\n",
    "x = beta.upper()\n",
    "\n",
    "print(x)\n",
    "#method name 'lower'\n",
    "x = gamma.lower()\n",
    "\n",
    "print(x)\n",
    "\n",
    "\n",
    "\n",
    "\n",
    "\n",
    "\n",
    "\n"
   ]
  },
  {
   "cell_type": "code",
   "execution_count": null,
   "metadata": {},
   "outputs": [],
   "source": []
  }
 ],
 "metadata": {
  "kernelspec": {
   "display_name": "Python 3",
   "language": "python",
   "name": "python3"
  },
  "language_info": {
   "codemirror_mode": {
    "name": "ipython",
    "version": 3
   },
   "file_extension": ".py",
   "mimetype": "text/x-python",
   "name": "python",
   "nbconvert_exporter": "python",
   "pygments_lexer": "ipython3",
   "version": "3.7.4"
  }
 },
 "nbformat": 4,
 "nbformat_minor": 2
}
